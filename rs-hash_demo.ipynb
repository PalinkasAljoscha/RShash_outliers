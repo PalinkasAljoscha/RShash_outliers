{
 "cells": [
  {
   "cell_type": "code",
   "execution_count": 28,
   "metadata": {},
   "outputs": [],
   "source": [
    "import numpy as np\n",
    "from sklearn.metrics import roc_auc_score\n",
    "from RShash import RShash\n",
    "\n",
    "#from scipy.io import arff"
   ]
  },
  {
   "cell_type": "code",
   "execution_count": null,
   "metadata": {},
   "outputs": [],
   "source": []
  },
  {
   "cell_type": "markdown",
   "metadata": {},
   "source": [
    "#### Apply the rs-hash implementation to three outlier detection benchmark datasets\n",
    "this rs-hash method is an implementation according to Sathe and Aggarwal \"Subspace Outlier Detection in Linear Time with Randomized Hashing\"\n",
    "\n",
    "in that paper the datasets Optdigits, Musk2, Waveform were used among others in rs-hash paper for performance benchmarking\n",
    "the implementation is verified by checking that same metrics are achieved (as non-deterministic approach the results are subject to variations in each execution)\n",
    "\n",
    "below the application to\n",
    "1) Optdigits (http://archive.ics.uci.edu/ml/machine-learning-databases/optdigits)\n",
    "\n",
    "2) Musk-2 (http://archive.ics.uci.edu/ml/machine-learning-databases/musk/clean2.data.Z)\n",
    "\n",
    "3) Waveform (http://archive.ics.uci.edu/ml/machine-learning-databases/waveform)"
   ]
  },
  {
   "cell_type": "code",
   "execution_count": 23,
   "metadata": {},
   "outputs": [
    {
     "name": "stdout",
     "output_type": "stream",
     "text": [
      "rs-hash outlier scoring on optdigits dataset gets a roc score of:  0.6697328595867879\n"
     ]
    }
   ],
   "source": [
    "url_path = \"http://archive.ics.uci.edu/ml/machine-learning-databases/optdigits\"\n",
    "data_tra  = np.loadtxt(url_path+\"/optdigits.tra\",delimiter=',',usecols=range(64))\n",
    "data_tes  = np.loadtxt(url_path+\"/optdigits.tes\",delimiter=',',usecols=range(64))\n",
    "label_tra  = np.loadtxt(url_path+\"/optdigits.tra\",delimiter=',',usecols=[64])\n",
    "label_tes  = np.loadtxt(url_path+\"/optdigits.tes\",delimiter=',',usecols=[64])\n",
    "data = np.concatenate( (data_tra, data_tes))\n",
    "label = np.concatenate( (label_tra, label_tes))\n",
    "# downsample the outliers (0-labelled observations) to 150 as in paper\n",
    "indices_to_drop = np.random.choice( np.where((label==0))[0], size=((label==0).sum()-150), replace=False)\n",
    "data = np.delete(data,indices_to_drop, 0)\n",
    "label = np.delete(label, indices_to_drop, 0)\n",
    "outlier_label = (label==0)\n",
    "\n",
    "# apply rs-hash and check roc-metric when comparing to true outlier labels \n",
    "rsh = RShash()\n",
    "rsh_score = rsh.score(data)\n",
    "roc = roc_auc_score(outlier_label, -rsh_score)\n",
    "print(\"rs-hash outlier scoring on optdigits dataset gets a roc score of: \", roc)"
   ]
  },
  {
   "cell_type": "code",
   "execution_count": null,
   "metadata": {},
   "outputs": [],
   "source": []
  },
  {
   "cell_type": "code",
   "execution_count": 26,
   "metadata": {},
   "outputs": [
    {
     "name": "stdout",
     "output_type": "stream",
     "text": [
      "rs-hash outlier scoring on Musk-2 dataset gets a roc score of:  0.999993046017976\n"
     ]
    }
   ],
   "source": [
    "# load musk-2 (\"http://archive.ics.uci.edu/ml/machine-learning-databases/musk/clean2.data.Z\")\n",
    "# load from local extracted copy \n",
    "data_musk  = np.loadtxt(\"musk_clean2_data\",delimiter=',',usecols=range(2,168))\n",
    "label_musk = np.genfromtxt(\"musk_clean2_data\",dtype='str', delimiter=',',usecols=range(1))\n",
    "# prepare data set as in paper\n",
    "musk_inliers =  np.where( np.isin(label_musk,(['NON-MUSK-j146','NON-MUSK-j147','NON-MUSK-252']) ) )[0]\n",
    "musk_outliers = np.where( np.isin(label_musk,(['MUSK-213','MUSK-211']) ) )[0]\n",
    "# set data for algorithm\n",
    "data = data_musk[np.concatenate( (musk_inliers,musk_outliers) ,axis=0)]\n",
    "outlier_label = np.concatenate( (np.repeat(False, len(musk_inliers)),np.repeat(True,len(musk_outliers))) ,axis=0)\n",
    "\n",
    "# apply rs-hash and check roc-metric when comparing to true outlier labels \n",
    "rsh = RShash()\n",
    "rsh_score = rsh.score(data)\n",
    "roc = roc_auc_score(outlier_label, -rsh_score)\n",
    "print(\"rs-hash outlier scoring on Musk-2 dataset gets a roc score of: \", roc)"
   ]
  },
  {
   "cell_type": "code",
   "execution_count": 29,
   "metadata": {},
   "outputs": [
    {
     "name": "stdout",
     "output_type": "stream",
     "text": [
      "rs-hash outlier scoring on waveform dataset gets a roc score of:  0.7563061098717334\n"
     ]
    }
   ],
   "source": [
    "# from \"http://archive.ics.uci.edu/ml/machine-learning-databases/waveform\"\n",
    "# load from local extracted copy\n",
    "data_wave  = np.loadtxt(\"waveform_data\",delimiter=',',usecols=range(21),encoding='utf-8')\n",
    "label  = np.loadtxt(\"waveform_data\",delimiter=',',usecols=[21])\n",
    "# downsample the outliers (0-labelled observations) 10% as in paper\n",
    "indices_to_drop = np.random.choice( np.where((label==0))[0], size=np.int(np.round(0.9*((label==0).sum()))), replace=False)\n",
    "data = np.delete(data_wave,indices_to_drop, 0)\n",
    "label = np.delete(label, indices_to_drop, 0)\n",
    "outlier_label = (label==0)\n",
    "\n",
    "# apply rs-hash and check roc-metric when comparing to true outlier labels \n",
    "rsh = RShash()\n",
    "rsh_score = rsh.score(data)\n",
    "roc = roc_auc_score(outlier_label, -rsh_score)\n",
    "print(\"rs-hash outlier scoring on waveform dataset gets a roc score of: \", roc)"
   ]
  },
  {
   "cell_type": "code",
   "execution_count": null,
   "metadata": {},
   "outputs": [],
   "source": []
  }
 ],
 "metadata": {
  "kernelspec": {
   "display_name": "Python 3",
   "language": "python",
   "name": "python3"
  },
  "language_info": {
   "codemirror_mode": {
    "name": "ipython",
    "version": 3
   },
   "file_extension": ".py",
   "mimetype": "text/x-python",
   "name": "python",
   "nbconvert_exporter": "python",
   "pygments_lexer": "ipython3",
   "version": "3.8.5"
  }
 },
 "nbformat": 4,
 "nbformat_minor": 4
}
